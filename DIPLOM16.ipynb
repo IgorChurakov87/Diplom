{
 "cells": [
  {
   "cell_type": "markdown",
   "metadata": {},
   "source": [
    "РЕКОМЕНДАТЕЛЬНАЯ СИСТЕМА"
   ]
  },
  {
   "cell_type": "markdown",
   "metadata": {},
   "source": [
    "Цели и задачи проекта:  \n",
    "1.вывести сочетания товаров в чеках, которые покупаются вместе с целью предложения данного ассоримента покупателям, расширения группы комплиментарных товаров  \n",
    "2.контроль за наличием на полке ходовых товаров  \n",
    "3.поиск покупательских инсайтов"
   ]
  },
  {
   "cell_type": "code",
   "execution_count": 2,
   "metadata": {},
   "outputs": [],
   "source": [
    "import pandas as pd\n",
    "import numpy as np \n",
    "\n",
    "import matplotlib.pyplot as plt\n",
    "import seaborn as sns\n",
    "\n",
    "from apyori import apriori\n",
    "import apyori\n",
    "\n",
    "import seaborn as sns"
   ]
  },
  {
   "cell_type": "markdown",
   "metadata": {},
   "source": [
    "\n",
    "1.выгрузка дата сета с помощью sql"
   ]
  },
  {
   "cell_type": "markdown",
   "metadata": {},
   "source": [
    "DECLARE @iDateStart int = 20210301\n",
    "\t\t,@iDateEnd int = 20210331\n",
    "\n",
    "DROP TABLE IF EXISTS #filtReceipts\n",
    "\n",
    "SELECT fk_ReceiptID\n",
    "INTO #filtReceipts\n",
    "FROM [DWH_FM].[dbo].[v_FactSales] as One\n",
    "LEFT JOIN v_DimStores_MK as Two on One.fk_storeMkID = two.sk_storeMkID\n",
    "WHERE 1=1\n",
    "\tand OurFirm = 'МК' \n",
    "\tand WarehouseGroup = 'ТО Ижевск' \n",
    "\tand fk_Calendar between @iDateStart and @iDateEnd\n",
    "GROUP BY fk_ReceiptID\n",
    "HAVING COUNT(*) > 1\n",
    "\n",
    "\n",
    "SELECT One.fk_ReceiptID, bk_Product, Quantity\n",
    "FROM [DWH_FM].[dbo].[v_FactSales] as One\n",
    "LEFT JOIN v_DimStores_MK as Two on One.fk_storeMkID = two.sk_storeMkID\n",
    "JOIN #filtReceipts f on f.fk_ReceiptID =  One.fk_ReceiptID\n",
    "WHERE 1=1\n",
    "\tand OurFirm = 'МК' \n",
    "\tand WarehouseGroup = 'ТО Ижевск' \n",
    "\tand fk_Calendar between @iDateStart and @iDateEnd\n",
    "Order by fk_ReceiptID\n"
   ]
  },
  {
   "cell_type": "markdown",
   "metadata": {},
   "source": [
    "я сначала удаляю временную таблицу #filt \n",
    "потом заполняю ее список заказов у которых более одной строки\n",
    "потом использую ее в качестве фильтра в основном запросе, то есть при иннер джойне на нее остаются только заказы с более чем одной строкой"
   ]
  },
  {
   "cell_type": "markdown",
   "metadata": {},
   "source": [
    "убираем чеки с 1 товаром, ограничиваем одним месяцем и городом"
   ]
  },
  {
   "cell_type": "markdown",
   "metadata": {},
   "source": [
    "2.загружаем полученный датасет"
   ]
  },
  {
   "cell_type": "code",
   "execution_count": 3,
   "metadata": {},
   "outputs": [
    {
     "data": {
      "text/html": [
       "<div>\n",
       "<style scoped>\n",
       "    .dataframe tbody tr th:only-of-type {\n",
       "        vertical-align: middle;\n",
       "    }\n",
       "\n",
       "    .dataframe tbody tr th {\n",
       "        vertical-align: top;\n",
       "    }\n",
       "\n",
       "    .dataframe thead th {\n",
       "        text-align: right;\n",
       "    }\n",
       "</style>\n",
       "<table border=\"1\" class=\"dataframe\">\n",
       "  <thead>\n",
       "    <tr style=\"text-align: right;\">\n",
       "      <th></th>\n",
       "      <th>Check</th>\n",
       "      <th>SKU</th>\n",
       "      <th>Volume</th>\n",
       "    </tr>\n",
       "  </thead>\n",
       "  <tbody>\n",
       "    <tr>\n",
       "      <th>0</th>\n",
       "      <td>23420273</td>\n",
       "      <td>PR0016291</td>\n",
       "      <td>1.000</td>\n",
       "    </tr>\n",
       "    <tr>\n",
       "      <th>1</th>\n",
       "      <td>23420273</td>\n",
       "      <td>ПЖП1009707</td>\n",
       "      <td>3.664</td>\n",
       "    </tr>\n",
       "    <tr>\n",
       "      <th>2</th>\n",
       "      <td>23420273</td>\n",
       "      <td>АКС0002176</td>\n",
       "      <td>1.000</td>\n",
       "    </tr>\n",
       "    <tr>\n",
       "      <th>3</th>\n",
       "      <td>23420273</td>\n",
       "      <td>ПЖП1018128</td>\n",
       "      <td>1.156</td>\n",
       "    </tr>\n",
       "    <tr>\n",
       "      <th>4</th>\n",
       "      <td>23420292</td>\n",
       "      <td>АКС0000969</td>\n",
       "      <td>10.000</td>\n",
       "    </tr>\n",
       "  </tbody>\n",
       "</table>\n",
       "</div>"
      ],
      "text/plain": [
       "      Check         SKU  Volume\n",
       "0  23420273   PR0016291   1.000\n",
       "1  23420273  ПЖП1009707   3.664\n",
       "2  23420273  АКС0002176   1.000\n",
       "3  23420273  ПЖП1018128   1.156\n",
       "4  23420292  АКС0000969  10.000"
      ]
     },
     "execution_count": 3,
     "metadata": {},
     "output_type": "execute_result"
    }
   ],
   "source": [
    "dataset = pd.read_excel('Diplom_dataset6.xlsx')\n",
    "# посомтрим на датасет\n",
    "dataset.head()"
   ]
  },
  {
   "cell_type": "markdown",
   "metadata": {},
   "source": [
    "3.Смотрим форматы и заполненность значениями датасета"
   ]
  },
  {
   "cell_type": "code",
   "execution_count": 4,
   "metadata": {},
   "outputs": [
    {
     "name": "stdout",
     "output_type": "stream",
     "text": [
      "<class 'pandas.core.frame.DataFrame'>\n",
      "RangeIndex: 496595 entries, 0 to 496594\n",
      "Data columns (total 3 columns):\n",
      " #   Column  Non-Null Count   Dtype  \n",
      "---  ------  --------------   -----  \n",
      " 0   Check   496595 non-null  int64  \n",
      " 1   SKU     496595 non-null  object \n",
      " 2   Volume  496595 non-null  float64\n",
      "dtypes: float64(1), int64(1), object(1)\n",
      "memory usage: 11.4+ MB\n"
     ]
    }
   ],
   "source": [
    "dataset.info()"
   ]
  },
  {
   "cell_type": "markdown",
   "metadata": {},
   "source": [
    "4.Считаем число уникальных номенклатур в датасете"
   ]
  },
  {
   "cell_type": "code",
   "execution_count": 5,
   "metadata": {},
   "outputs": [
    {
     "data": {
      "text/plain": [
       "PR0016291     49483\n",
       "ПЖП1009932    23452\n",
       "ПЖП0100032    13328\n",
       "ПЖП0102643    12541\n",
       "PR0003099      8498\n",
       "              ...  \n",
       "ПЖП33236          1\n",
       "PR0016738         1\n",
       "PR0015667         1\n",
       "PR0014260         1\n",
       "ПЖП1009214        1\n",
       "Name: SKU, Length: 905, dtype: int64"
      ]
     },
     "execution_count": 5,
     "metadata": {},
     "output_type": "execute_result"
    }
   ],
   "source": [
    "dataset.SKU.value_counts()"
   ]
  },
  {
   "cell_type": "markdown",
   "metadata": {},
   "source": [
    "Выводы:\n"
   ]
  },
  {
   "cell_type": "markdown",
   "metadata": {},
   "source": [
    "5.трансформируем датасет для модели"
   ]
  },
  {
   "cell_type": "code",
   "execution_count": 6,
   "metadata": {},
   "outputs": [],
   "source": [
    "good = dataset.groupby('Check')['SKU'].apply(lambda r: ' '.join([str(A) for A in r]))"
   ]
  },
  {
   "cell_type": "code",
   "execution_count": 7,
   "metadata": {},
   "outputs": [
    {
     "data": {
      "text/plain": [
       "Check\n",
       "23420273           PR0016291 ПЖП1009707 АКС0002176 ПЖП1018128\n",
       "23420292                                АКС0000969 ПЖП1018601\n",
       "23420295            PR0002349 PR0016291 АКС0001983 ПЖП1008987\n",
       "23420310    ПЖП1009925 PR0006575 ПЖП1020792 PR0004894 ПЖП1...\n",
       "23420322                                 ПЖП1020792 PR0014096\n",
       "23420330                                  PR0016408 PR0003099\n",
       "23420332                       PR0003722 АКС0000969 PR0016291\n",
       "23420342                                ПЖП1009927 ПЖП1009887\n",
       "23420346                                АКС0001761 ПЖП1009932\n",
       "23420348                                  PR0009191 PR0001513\n",
       "Name: SKU, dtype: object"
      ]
     },
     "execution_count": 7,
     "metadata": {},
     "output_type": "execute_result"
    }
   ],
   "source": [
    "good.head(10)"
   ]
  },
  {
   "cell_type": "markdown",
   "metadata": {},
   "source": [
    "6.Применяем модель, настраиваем критерии вывода правил"
   ]
  },
  {
   "cell_type": "code",
   "execution_count": 8,
   "metadata": {},
   "outputs": [],
   "source": [
    "association_rules = apyori.apriori(good.apply(lambda r: r.split(' ')), \n",
    "                                   min_support=0.001, \n",
    "                                   min_confidence=0.01, min_lift=1.05, \n",
    "                                   min_length=1)"
   ]
  },
  {
   "cell_type": "code",
   "execution_count": 9,
   "metadata": {},
   "outputs": [
    {
     "data": {
      "text/plain": [
       "<generator object apriori at 0x000001D79798BD60>"
      ]
     },
     "execution_count": 9,
     "metadata": {},
     "output_type": "execute_result"
    }
   ],
   "source": [
    "association_rules"
   ]
  },
  {
   "cell_type": "code",
   "execution_count": 10,
   "metadata": {},
   "outputs": [],
   "source": [
    "asr_df = pd.DataFrame(columns = ['from', 'to', 'confidence', 'support', 'lift'])\n",
    "for item in association_rules:\n",
    "    pair = item[0] \n",
    "    items = [x for x in pair]\n",
    "    asr_df.loc[len(asr_df), :] =  ' '.join(list(item[2][0][0])), \\\n",
    "                                  ' '.join(list(item[2][0][1])),\\\n",
    "                                  item[2][0][2], item[1], item[2][0][3]"
   ]
  },
  {
   "cell_type": "markdown",
   "metadata": {},
   "source": [
    "7.смотрим на получившиеся правила"
   ]
  },
  {
   "cell_type": "code",
   "execution_count": 11,
   "metadata": {},
   "outputs": [
    {
     "data": {
      "text/html": [
       "<div>\n",
       "<style scoped>\n",
       "    .dataframe tbody tr th:only-of-type {\n",
       "        vertical-align: middle;\n",
       "    }\n",
       "\n",
       "    .dataframe tbody tr th {\n",
       "        vertical-align: top;\n",
       "    }\n",
       "\n",
       "    .dataframe thead th {\n",
       "        text-align: right;\n",
       "    }\n",
       "</style>\n",
       "<table border=\"1\" class=\"dataframe\">\n",
       "  <thead>\n",
       "    <tr style=\"text-align: right;\">\n",
       "      <th></th>\n",
       "      <th>from</th>\n",
       "      <th>to</th>\n",
       "      <th>confidence</th>\n",
       "      <th>support</th>\n",
       "      <th>lift</th>\n",
       "    </tr>\n",
       "  </thead>\n",
       "  <tbody>\n",
       "    <tr>\n",
       "      <th>0</th>\n",
       "      <td>PR0001320</td>\n",
       "      <td>PR0016291</td>\n",
       "      <td>0.393192</td>\n",
       "      <td>0.00403132</td>\n",
       "      <td>1.57094</td>\n",
       "    </tr>\n",
       "    <tr>\n",
       "      <th>1</th>\n",
       "      <td>PR0001334</td>\n",
       "      <td>PR0016291</td>\n",
       "      <td>0.396209</td>\n",
       "      <td>0.00222051</td>\n",
       "      <td>1.583</td>\n",
       "    </tr>\n",
       "    <tr>\n",
       "      <th>2</th>\n",
       "      <td>PR0001729</td>\n",
       "      <td>ПЖП1009932</td>\n",
       "      <td>0.139789</td>\n",
       "      <td>0.00181081</td>\n",
       "      <td>1.17843</td>\n",
       "    </tr>\n",
       "    <tr>\n",
       "      <th>3</th>\n",
       "      <td>PR0003099</td>\n",
       "      <td>PR0006575</td>\n",
       "      <td>0.024947</td>\n",
       "      <td>0.00107232</td>\n",
       "      <td>1.09651</td>\n",
       "    </tr>\n",
       "    <tr>\n",
       "      <th>4</th>\n",
       "      <td>PR0003099</td>\n",
       "      <td>PR0010747</td>\n",
       "      <td>0.0354201</td>\n",
       "      <td>0.00152249</td>\n",
       "      <td>1.07336</td>\n",
       "    </tr>\n",
       "    <tr>\n",
       "      <th>...</th>\n",
       "      <td>...</td>\n",
       "      <td>...</td>\n",
       "      <td>...</td>\n",
       "      <td>...</td>\n",
       "      <td>...</td>\n",
       "    </tr>\n",
       "    <tr>\n",
       "      <th>121</th>\n",
       "      <td>ПЖП1009932</td>\n",
       "      <td>ПЖП1014429</td>\n",
       "      <td>0.0248593</td>\n",
       "      <td>0.00294888</td>\n",
       "      <td>1.21531</td>\n",
       "    </tr>\n",
       "    <tr>\n",
       "      <th>122</th>\n",
       "      <td>ПЖП1009932</td>\n",
       "      <td>ПЖП1020791</td>\n",
       "      <td>0.0106174</td>\n",
       "      <td>0.00125947</td>\n",
       "      <td>1.23548</td>\n",
       "    </tr>\n",
       "    <tr>\n",
       "      <th>123</th>\n",
       "      <td>ПЖП0100030</td>\n",
       "      <td>PR0016291 ПЖП0100647</td>\n",
       "      <td>0.0271586</td>\n",
       "      <td>0.00107232</td>\n",
       "      <td>5.50134</td>\n",
       "    </tr>\n",
       "    <tr>\n",
       "      <th>124</th>\n",
       "      <td>ПЖП0100030</td>\n",
       "      <td>ПЖП1018601 PR0016291</td>\n",
       "      <td>0.0253651</td>\n",
       "      <td>0.00100151</td>\n",
       "      <td>4.54233</td>\n",
       "    </tr>\n",
       "    <tr>\n",
       "      <th>125</th>\n",
       "      <td>ПЖП0102643</td>\n",
       "      <td>PR0016291 ПЖП1009932</td>\n",
       "      <td>0.019217</td>\n",
       "      <td>0.00121901</td>\n",
       "      <td>1.09932</td>\n",
       "    </tr>\n",
       "  </tbody>\n",
       "</table>\n",
       "<p>126 rows × 5 columns</p>\n",
       "</div>"
      ],
      "text/plain": [
       "           from                    to confidence     support     lift\n",
       "0     PR0001320             PR0016291   0.393192  0.00403132  1.57094\n",
       "1     PR0001334             PR0016291   0.396209  0.00222051    1.583\n",
       "2     PR0001729            ПЖП1009932   0.139789  0.00181081  1.17843\n",
       "3     PR0003099             PR0006575   0.024947  0.00107232  1.09651\n",
       "4     PR0003099             PR0010747  0.0354201  0.00152249  1.07336\n",
       "..          ...                   ...        ...         ...      ...\n",
       "121  ПЖП1009932            ПЖП1014429  0.0248593  0.00294888  1.21531\n",
       "122  ПЖП1009932            ПЖП1020791  0.0106174  0.00125947  1.23548\n",
       "123  ПЖП0100030  PR0016291 ПЖП0100647  0.0271586  0.00107232  5.50134\n",
       "124  ПЖП0100030  ПЖП1018601 PR0016291  0.0253651  0.00100151  4.54233\n",
       "125  ПЖП0102643  PR0016291 ПЖП1009932   0.019217  0.00121901  1.09932\n",
       "\n",
       "[126 rows x 5 columns]"
      ]
     },
     "execution_count": 11,
     "metadata": {},
     "output_type": "execute_result"
    }
   ],
   "source": [
    "asr_df"
   ]
  },
  {
   "cell_type": "markdown",
   "metadata": {},
   "source": [
    "8.выбираем топ 10правил по метрике support\n",
    "vожно охарактеризовать этот показатель как индекс частоты встречаемости конкретного продукта в имеющихся транзакциях.\n",
    "насколько часто какие-то два и более продукта встречаются вместе"
   ]
  },
  {
   "cell_type": "code",
   "execution_count": 16,
   "metadata": {},
   "outputs": [
    {
     "data": {
      "text/html": [
       "<div>\n",
       "<style scoped>\n",
       "    .dataframe tbody tr th:only-of-type {\n",
       "        vertical-align: middle;\n",
       "    }\n",
       "\n",
       "    .dataframe tbody tr th {\n",
       "        vertical-align: top;\n",
       "    }\n",
       "\n",
       "    .dataframe thead th {\n",
       "        text-align: right;\n",
       "    }\n",
       "</style>\n",
       "<table border=\"1\" class=\"dataframe\">\n",
       "  <thead>\n",
       "    <tr style=\"text-align: right;\">\n",
       "      <th></th>\n",
       "      <th>from</th>\n",
       "      <th>to</th>\n",
       "      <th>confidence</th>\n",
       "      <th>support</th>\n",
       "      <th>lift</th>\n",
       "    </tr>\n",
       "  </thead>\n",
       "  <tbody>\n",
       "    <tr>\n",
       "      <th>91</th>\n",
       "      <td>PR0016291</td>\n",
       "      <td>ПЖП1021055</td>\n",
       "      <td>0.0187135</td>\n",
       "      <td>0.00468382</td>\n",
       "      <td>1.32748</td>\n",
       "    </tr>\n",
       "    <tr>\n",
       "      <th>79</th>\n",
       "      <td>PR0016291</td>\n",
       "      <td>ПЖП1008979</td>\n",
       "      <td>0.0195219</td>\n",
       "      <td>0.00488614</td>\n",
       "      <td>1.38981</td>\n",
       "    </tr>\n",
       "    <tr>\n",
       "      <th>76</th>\n",
       "      <td>PR0016291</td>\n",
       "      <td>ПЖП0100647</td>\n",
       "      <td>0.0197239</td>\n",
       "      <td>0.00493672</td>\n",
       "      <td>1.29079</td>\n",
       "    </tr>\n",
       "    <tr>\n",
       "      <th>74</th>\n",
       "      <td>PR0016291</td>\n",
       "      <td>АКС0002210</td>\n",
       "      <td>0.0204111</td>\n",
       "      <td>0.0051087</td>\n",
       "      <td>1.11688</td>\n",
       "    </tr>\n",
       "    <tr>\n",
       "      <th>87</th>\n",
       "      <td>PR0016291</td>\n",
       "      <td>ПЖП1018601</td>\n",
       "      <td>0.0223107</td>\n",
       "      <td>0.00558416</td>\n",
       "      <td>1.1439</td>\n",
       "    </tr>\n",
       "    <tr>\n",
       "      <th>30</th>\n",
       "      <td>PR0006575</td>\n",
       "      <td>PR0016291</td>\n",
       "      <td>0.290129</td>\n",
       "      <td>0.00660084</td>\n",
       "      <td>1.15917</td>\n",
       "    </tr>\n",
       "    <tr>\n",
       "      <th>75</th>\n",
       "      <td>PR0016291</td>\n",
       "      <td>ПЖП0100030</td>\n",
       "      <td>0.0425803</td>\n",
       "      <td>0.0106575</td>\n",
       "      <td>1.07843</td>\n",
       "    </tr>\n",
       "    <tr>\n",
       "      <th>83</th>\n",
       "      <td>PR0016291</td>\n",
       "      <td>ПЖП1010554</td>\n",
       "      <td>0.0427217</td>\n",
       "      <td>0.0106929</td>\n",
       "      <td>1.34301</td>\n",
       "    </tr>\n",
       "    <tr>\n",
       "      <th>5</th>\n",
       "      <td>PR0003099</td>\n",
       "      <td>PR0016291</td>\n",
       "      <td>0.272417</td>\n",
       "      <td>0.0117095</td>\n",
       "      <td>1.0884</td>\n",
       "    </tr>\n",
       "    <tr>\n",
       "      <th>77</th>\n",
       "      <td>PR0016291</td>\n",
       "      <td>ПЖП0102643</td>\n",
       "      <td>0.0916072</td>\n",
       "      <td>0.0229284</td>\n",
       "      <td>1.44414</td>\n",
       "    </tr>\n",
       "  </tbody>\n",
       "</table>\n",
       "</div>"
      ],
      "text/plain": [
       "         from          to confidence     support     lift\n",
       "91  PR0016291  ПЖП1021055  0.0187135  0.00468382  1.32748\n",
       "79  PR0016291  ПЖП1008979  0.0195219  0.00488614  1.38981\n",
       "76  PR0016291  ПЖП0100647  0.0197239  0.00493672  1.29079\n",
       "74  PR0016291  АКС0002210  0.0204111   0.0051087  1.11688\n",
       "87  PR0016291  ПЖП1018601  0.0223107  0.00558416   1.1439\n",
       "30  PR0006575   PR0016291   0.290129  0.00660084  1.15917\n",
       "75  PR0016291  ПЖП0100030  0.0425803   0.0106575  1.07843\n",
       "83  PR0016291  ПЖП1010554  0.0427217   0.0106929  1.34301\n",
       "5   PR0003099   PR0016291   0.272417   0.0117095   1.0884\n",
       "77  PR0016291  ПЖП0102643  0.0916072   0.0229284  1.44414"
      ]
     },
     "execution_count": 16,
     "metadata": {},
     "output_type": "execute_result"
    }
   ],
   "source": [
    "asr_df.sort_values('support').tail(10)"
   ]
  },
  {
   "cell_type": "markdown",
   "metadata": {},
   "source": [
    "9.Подгружаем датасет с наименованием товара для пользовательской идентификации получившихся правил"
   ]
  },
  {
   "cell_type": "code",
   "execution_count": 17,
   "metadata": {},
   "outputs": [
    {
     "data": {
      "text/html": [
       "<div>\n",
       "<style scoped>\n",
       "    .dataframe tbody tr th:only-of-type {\n",
       "        vertical-align: middle;\n",
       "    }\n",
       "\n",
       "    .dataframe tbody tr th {\n",
       "        vertical-align: top;\n",
       "    }\n",
       "\n",
       "    .dataframe thead th {\n",
       "        text-align: right;\n",
       "    }\n",
       "</style>\n",
       "<table border=\"1\" class=\"dataframe\">\n",
       "  <thead>\n",
       "    <tr style=\"text-align: right;\">\n",
       "      <th></th>\n",
       "      <th>SKU</th>\n",
       "      <th>SKU_name</th>\n",
       "    </tr>\n",
       "  </thead>\n",
       "  <tbody>\n",
       "    <tr>\n",
       "      <th>0</th>\n",
       "      <td>PR0004762</td>\n",
       "      <td>Скумбрия б/г х/к 2 сорт 1*3 ПятыйПрич</td>\n",
       "    </tr>\n",
       "    <tr>\n",
       "      <th>1</th>\n",
       "      <td>PR0011875</td>\n",
       "      <td>Набор к пиву Горбуша х/к фасованный вес. Пятый...</td>\n",
       "    </tr>\n",
       "    <tr>\n",
       "      <th>2</th>\n",
       "      <td>PR0018247</td>\n",
       "      <td>Салака калтычки х/к*2 ПятыйПрич</td>\n",
       "    </tr>\n",
       "    <tr>\n",
       "      <th>3</th>\n",
       "      <td>ПЖП1018708</td>\n",
       "      <td>Минеральная вода Увинская Жемчужина газир 1,5л...</td>\n",
       "    </tr>\n",
       "    <tr>\n",
       "      <th>4</th>\n",
       "      <td>АКС0001331</td>\n",
       "      <td>ВСТ Консервы ветчина Московская ж/б 325г*36</td>\n",
       "    </tr>\n",
       "  </tbody>\n",
       "</table>\n",
       "</div>"
      ],
      "text/plain": [
       "          SKU                                           SKU_name\n",
       "0   PR0004762              Скумбрия б/г х/к 2 сорт 1*3 ПятыйПрич\n",
       "1   PR0011875  Набор к пиву Горбуша х/к фасованный вес. Пятый...\n",
       "2   PR0018247                    Салака калтычки х/к*2 ПятыйПрич\n",
       "3  ПЖП1018708  Минеральная вода Увинская Жемчужина газир 1,5л...\n",
       "4  АКС0001331        ВСТ Консервы ветчина Московская ж/б 325г*36"
      ]
     },
     "execution_count": 17,
     "metadata": {},
     "output_type": "execute_result"
    }
   ],
   "source": [
    "book = pd.read_excel('book.xlsx')\n",
    "# посомтрим на датасет\n",
    "book.head()"
   ]
  },
  {
   "cell_type": "markdown",
   "metadata": {},
   "source": [
    "10.применяем загруженный датасет"
   ]
  },
  {
   "cell_type": "code",
   "execution_count": 18,
   "metadata": {},
   "outputs": [],
   "source": [
    "def get_rule_title(rule):\n",
    "    print(book[book.SKU.isin(rule['from'].split(' '))]['SKU_name'].values)\n",
    "    print('----------->')\n",
    "    print(book[book.SKU == rule['to']]['SKU_name'].values)"
   ]
  },
  {
   "cell_type": "code",
   "execution_count": 19,
   "metadata": {},
   "outputs": [
    {
     "name": "stdout",
     "output_type": "stream",
     "text": [
      "['Пакет-майка БОЛЬШАЯ']\n",
      "----------->\n",
      "['ВСТ Окорок охл в/у (ок-2кг) СМК']\n"
     ]
    }
   ],
   "source": [
    "get_rule_title(asr_df.loc[91])"
   ]
  },
  {
   "cell_type": "markdown",
   "metadata": {},
   "source": [
    "Промежуточные выводы:  \n",
    "Видим, что самый популярный товар - пакет. Ожидаемо. Очистим датасет от данного товара, так как это не цель исследования."
   ]
  },
  {
   "cell_type": "code",
   "execution_count": 20,
   "metadata": {},
   "outputs": [
    {
     "data": {
      "text/html": [
       "<div>\n",
       "<style scoped>\n",
       "    .dataframe tbody tr th:only-of-type {\n",
       "        vertical-align: middle;\n",
       "    }\n",
       "\n",
       "    .dataframe tbody tr th {\n",
       "        vertical-align: top;\n",
       "    }\n",
       "\n",
       "    .dataframe thead th {\n",
       "        text-align: right;\n",
       "    }\n",
       "</style>\n",
       "<table border=\"1\" class=\"dataframe\">\n",
       "  <thead>\n",
       "    <tr style=\"text-align: right;\">\n",
       "      <th></th>\n",
       "      <th>Check</th>\n",
       "      <th>SKU</th>\n",
       "      <th>Volume</th>\n",
       "    </tr>\n",
       "  </thead>\n",
       "  <tbody>\n",
       "    <tr>\n",
       "      <th>1</th>\n",
       "      <td>23420273</td>\n",
       "      <td>ПЖП1009707</td>\n",
       "      <td>3.664</td>\n",
       "    </tr>\n",
       "    <tr>\n",
       "      <th>2</th>\n",
       "      <td>23420273</td>\n",
       "      <td>АКС0002176</td>\n",
       "      <td>1.000</td>\n",
       "    </tr>\n",
       "    <tr>\n",
       "      <th>3</th>\n",
       "      <td>23420273</td>\n",
       "      <td>ПЖП1018128</td>\n",
       "      <td>1.156</td>\n",
       "    </tr>\n",
       "    <tr>\n",
       "      <th>4</th>\n",
       "      <td>23420292</td>\n",
       "      <td>АКС0000969</td>\n",
       "      <td>10.000</td>\n",
       "    </tr>\n",
       "    <tr>\n",
       "      <th>5</th>\n",
       "      <td>23420292</td>\n",
       "      <td>ПЖП1018601</td>\n",
       "      <td>0.786</td>\n",
       "    </tr>\n",
       "  </tbody>\n",
       "</table>\n",
       "</div>"
      ],
      "text/plain": [
       "      Check         SKU  Volume\n",
       "1  23420273  ПЖП1009707   3.664\n",
       "2  23420273  АКС0002176   1.000\n",
       "3  23420273  ПЖП1018128   1.156\n",
       "4  23420292  АКС0000969  10.000\n",
       "5  23420292  ПЖП1018601   0.786"
      ]
     },
     "execution_count": 20,
     "metadata": {},
     "output_type": "execute_result"
    }
   ],
   "source": [
    "dataset2 = dataset.loc[dataset['SKU'] != 'PR0016291']\n",
    "# посомтрим на датасет\n",
    "dataset2.head()"
   ]
  },
  {
   "cell_type": "code",
   "execution_count": 21,
   "metadata": {},
   "outputs": [
    {
     "name": "stdout",
     "output_type": "stream",
     "text": [
      "<class 'pandas.core.frame.DataFrame'>\n",
      "Int64Index: 447112 entries, 1 to 496594\n",
      "Data columns (total 3 columns):\n",
      " #   Column  Non-Null Count   Dtype  \n",
      "---  ------  --------------   -----  \n",
      " 0   Check   447112 non-null  int64  \n",
      " 1   SKU     447112 non-null  object \n",
      " 2   Volume  447112 non-null  float64\n",
      "dtypes: float64(1), int64(1), object(1)\n",
      "memory usage: 13.6+ MB\n"
     ]
    }
   ],
   "source": [
    "dataset2.info()"
   ]
  },
  {
   "cell_type": "code",
   "execution_count": 22,
   "metadata": {},
   "outputs": [],
   "source": [
    "good2 = dataset2.groupby('Check')['SKU'].apply(lambda r: ' '.join([str(A) for A in r]))"
   ]
  },
  {
   "cell_type": "code",
   "execution_count": 23,
   "metadata": {},
   "outputs": [
    {
     "data": {
      "text/plain": [
       "Check\n",
       "23420273                     ПЖП1009707 АКС0002176 ПЖП1018128\n",
       "23420292                                АКС0000969 ПЖП1018601\n",
       "23420295                      PR0002349 АКС0001983 ПЖП1008987\n",
       "23420310    ПЖП1009925 PR0006575 ПЖП1020792 PR0004894 ПЖП1...\n",
       "23420322                                 ПЖП1020792 PR0014096\n",
       "23420330                                  PR0016408 PR0003099\n",
       "23420332                                 PR0003722 АКС0000969\n",
       "23420342                                ПЖП1009927 ПЖП1009887\n",
       "23420346                                АКС0001761 ПЖП1009932\n",
       "23420348                                  PR0009191 PR0001513\n",
       "Name: SKU, dtype: object"
      ]
     },
     "execution_count": 23,
     "metadata": {},
     "output_type": "execute_result"
    }
   ],
   "source": [
    "good2.head(10)"
   ]
  },
  {
   "cell_type": "code",
   "execution_count": 24,
   "metadata": {},
   "outputs": [],
   "source": [
    "association_rules2 = apyori.apriori(good2.apply(lambda r: r.split(' ')), \n",
    "                                   min_support=0.001, \n",
    "                                   min_confidence=0.01, min_lift=1.05, \n",
    "                                   min_length=1)"
   ]
  },
  {
   "cell_type": "code",
   "execution_count": 25,
   "metadata": {},
   "outputs": [
    {
     "data": {
      "text/plain": [
       "<generator object apriori at 0x000001D797B09580>"
      ]
     },
     "execution_count": 25,
     "metadata": {},
     "output_type": "execute_result"
    }
   ],
   "source": [
    "association_rules2"
   ]
  },
  {
   "cell_type": "code",
   "execution_count": 26,
   "metadata": {},
   "outputs": [],
   "source": [
    "asr_df2 = pd.DataFrame(columns = ['from', 'to', 'confidence', 'support', 'lift'])\n",
    "for item in association_rules2:\n",
    "    pair = item[0] \n",
    "    items = [x for x in pair]\n",
    "    asr_df2.loc[len(asr_df2), :] =  ' '.join(list(item[2][0][0])), \\\n",
    "                                  ' '.join(list(item[2][0][1])),\\\n",
    "                                  item[2][0][2], item[1], item[2][0][3]"
   ]
  },
  {
   "cell_type": "code",
   "execution_count": 27,
   "metadata": {},
   "outputs": [
    {
     "data": {
      "text/html": [
       "<div>\n",
       "<style scoped>\n",
       "    .dataframe tbody tr th:only-of-type {\n",
       "        vertical-align: middle;\n",
       "    }\n",
       "\n",
       "    .dataframe tbody tr th {\n",
       "        vertical-align: top;\n",
       "    }\n",
       "\n",
       "    .dataframe thead th {\n",
       "        text-align: right;\n",
       "    }\n",
       "</style>\n",
       "<table border=\"1\" class=\"dataframe\">\n",
       "  <thead>\n",
       "    <tr style=\"text-align: right;\">\n",
       "      <th></th>\n",
       "      <th>from</th>\n",
       "      <th>to</th>\n",
       "      <th>confidence</th>\n",
       "      <th>support</th>\n",
       "      <th>lift</th>\n",
       "    </tr>\n",
       "  </thead>\n",
       "  <tbody>\n",
       "    <tr>\n",
       "      <th>0</th>\n",
       "      <td>PR0001729</td>\n",
       "      <td>ПЖП1009932</td>\n",
       "      <td>0.139789</td>\n",
       "      <td>0.00181101</td>\n",
       "      <td>1.1783</td>\n",
       "    </tr>\n",
       "    <tr>\n",
       "      <th>1</th>\n",
       "      <td>PR0003099</td>\n",
       "      <td>PR0006575</td>\n",
       "      <td>0.024947</td>\n",
       "      <td>0.00107244</td>\n",
       "      <td>1.09638</td>\n",
       "    </tr>\n",
       "    <tr>\n",
       "      <th>2</th>\n",
       "      <td>PR0003099</td>\n",
       "      <td>PR0010747</td>\n",
       "      <td>0.0354201</td>\n",
       "      <td>0.00152266</td>\n",
       "      <td>1.07324</td>\n",
       "    </tr>\n",
       "    <tr>\n",
       "      <th>3</th>\n",
       "      <td>PR0003099</td>\n",
       "      <td>PR0016409</td>\n",
       "      <td>0.053542</td>\n",
       "      <td>0.0023017</td>\n",
       "      <td>3.95966</td>\n",
       "    </tr>\n",
       "    <tr>\n",
       "      <th>4</th>\n",
       "      <td>PR0003099</td>\n",
       "      <td>АКС0002210</td>\n",
       "      <td>0.0304778</td>\n",
       "      <td>0.0013102</td>\n",
       "      <td>1.66755</td>\n",
       "    </tr>\n",
       "    <tr>\n",
       "      <th>...</th>\n",
       "      <td>...</td>\n",
       "      <td>...</td>\n",
       "      <td>...</td>\n",
       "      <td>...</td>\n",
       "      <td>...</td>\n",
       "    </tr>\n",
       "    <tr>\n",
       "      <th>80</th>\n",
       "      <td>ПЖП1009925</td>\n",
       "      <td>ПЖП1009932</td>\n",
       "      <td>0.127063</td>\n",
       "      <td>0.00194759</td>\n",
       "      <td>1.07103</td>\n",
       "    </tr>\n",
       "    <tr>\n",
       "      <th>81</th>\n",
       "      <td>ПЖП1009925</td>\n",
       "      <td>ПЖП1016817</td>\n",
       "      <td>0.107591</td>\n",
       "      <td>0.00164913</td>\n",
       "      <td>15.2135</td>\n",
       "    </tr>\n",
       "    <tr>\n",
       "      <th>82</th>\n",
       "      <td>ПЖП1009932</td>\n",
       "      <td>ПЖП1010107</td>\n",
       "      <td>0.0356473</td>\n",
       "      <td>0.00422906</td>\n",
       "      <td>1.33892</td>\n",
       "    </tr>\n",
       "    <tr>\n",
       "      <th>83</th>\n",
       "      <td>ПЖП1009932</td>\n",
       "      <td>ПЖП1014429</td>\n",
       "      <td>0.0248593</td>\n",
       "      <td>0.00294921</td>\n",
       "      <td>1.21518</td>\n",
       "    </tr>\n",
       "    <tr>\n",
       "      <th>84</th>\n",
       "      <td>ПЖП1009932</td>\n",
       "      <td>ПЖП1020791</td>\n",
       "      <td>0.0106174</td>\n",
       "      <td>0.00125961</td>\n",
       "      <td>1.23535</td>\n",
       "    </tr>\n",
       "  </tbody>\n",
       "</table>\n",
       "<p>85 rows × 5 columns</p>\n",
       "</div>"
      ],
      "text/plain": [
       "          from          to confidence     support     lift\n",
       "0    PR0001729  ПЖП1009932   0.139789  0.00181101   1.1783\n",
       "1    PR0003099   PR0006575   0.024947  0.00107244  1.09638\n",
       "2    PR0003099   PR0010747  0.0354201  0.00152266  1.07324\n",
       "3    PR0003099   PR0016409   0.053542   0.0023017  3.95966\n",
       "4    PR0003099  АКС0002210  0.0304778   0.0013102  1.66755\n",
       "..         ...         ...        ...         ...      ...\n",
       "80  ПЖП1009925  ПЖП1009932   0.127063  0.00194759  1.07103\n",
       "81  ПЖП1009925  ПЖП1016817   0.107591  0.00164913  15.2135\n",
       "82  ПЖП1009932  ПЖП1010107  0.0356473  0.00422906  1.33892\n",
       "83  ПЖП1009932  ПЖП1014429  0.0248593  0.00294921  1.21518\n",
       "84  ПЖП1009932  ПЖП1020791  0.0106174  0.00125961  1.23535\n",
       "\n",
       "[85 rows x 5 columns]"
      ]
     },
     "execution_count": 27,
     "metadata": {},
     "output_type": "execute_result"
    }
   ],
   "source": [
    "asr_df2"
   ]
  },
  {
   "cell_type": "code",
   "execution_count": 28,
   "metadata": {},
   "outputs": [
    {
     "data": {
      "text/html": [
       "<div>\n",
       "<style scoped>\n",
       "    .dataframe tbody tr th:only-of-type {\n",
       "        vertical-align: middle;\n",
       "    }\n",
       "\n",
       "    .dataframe tbody tr th {\n",
       "        vertical-align: top;\n",
       "    }\n",
       "\n",
       "    .dataframe thead th {\n",
       "        text-align: right;\n",
       "    }\n",
       "</style>\n",
       "<table border=\"1\" class=\"dataframe\">\n",
       "  <thead>\n",
       "    <tr style=\"text-align: right;\">\n",
       "      <th></th>\n",
       "      <th>from</th>\n",
       "      <th>to</th>\n",
       "      <th>confidence</th>\n",
       "      <th>support</th>\n",
       "      <th>lift</th>\n",
       "    </tr>\n",
       "  </thead>\n",
       "  <tbody>\n",
       "    <tr>\n",
       "      <th>48</th>\n",
       "      <td>PR0014096</td>\n",
       "      <td>PR0016409</td>\n",
       "      <td>0.0995844</td>\n",
       "      <td>0.00303015</td>\n",
       "      <td>7.3647</td>\n",
       "    </tr>\n",
       "    <tr>\n",
       "      <th>63</th>\n",
       "      <td>ПЖП0100030</td>\n",
       "      <td>ПЖП0100647</td>\n",
       "      <td>0.0778888</td>\n",
       "      <td>0.00307568</td>\n",
       "      <td>5.09668</td>\n",
       "    </tr>\n",
       "    <tr>\n",
       "      <th>67</th>\n",
       "      <td>ПЖП0100030</td>\n",
       "      <td>ПЖП1018601</td>\n",
       "      <td>0.0849347</td>\n",
       "      <td>0.00335391</td>\n",
       "      <td>4.35422</td>\n",
       "    </tr>\n",
       "    <tr>\n",
       "      <th>42</th>\n",
       "      <td>PR0011871</td>\n",
       "      <td>ПЖП0100032</td>\n",
       "      <td>0.0847018</td>\n",
       "      <td>0.00347025</td>\n",
       "      <td>1.25629</td>\n",
       "    </tr>\n",
       "    <tr>\n",
       "      <th>19</th>\n",
       "      <td>PR0006001</td>\n",
       "      <td>ПЖП1009932</td>\n",
       "      <td>0.150759</td>\n",
       "      <td>0.00366754</td>\n",
       "      <td>1.27077</td>\n",
       "    </tr>\n",
       "    <tr>\n",
       "      <th>53</th>\n",
       "      <td>PR0015011</td>\n",
       "      <td>ПЖП1009932</td>\n",
       "      <td>0.145817</td>\n",
       "      <td>0.00377378</td>\n",
       "      <td>1.22911</td>\n",
       "    </tr>\n",
       "    <tr>\n",
       "      <th>78</th>\n",
       "      <td>ПЖП1009917</td>\n",
       "      <td>ПЖП1009932</td>\n",
       "      <td>0.131413</td>\n",
       "      <td>0.00390024</td>\n",
       "      <td>1.1077</td>\n",
       "    </tr>\n",
       "    <tr>\n",
       "      <th>23</th>\n",
       "      <td>PR0006575</td>\n",
       "      <td>PR0010747</td>\n",
       "      <td>0.172743</td>\n",
       "      <td>0.00393059</td>\n",
       "      <td>5.2342</td>\n",
       "    </tr>\n",
       "    <tr>\n",
       "      <th>82</th>\n",
       "      <td>ПЖП1009932</td>\n",
       "      <td>ПЖП1010107</td>\n",
       "      <td>0.0356473</td>\n",
       "      <td>0.00422906</td>\n",
       "      <td>1.33892</td>\n",
       "    </tr>\n",
       "    <tr>\n",
       "      <th>75</th>\n",
       "      <td>ПЖП1009879</td>\n",
       "      <td>ПЖП1009932</td>\n",
       "      <td>0.143415</td>\n",
       "      <td>0.00464387</td>\n",
       "      <td>1.20886</td>\n",
       "    </tr>\n",
       "  </tbody>\n",
       "</table>\n",
       "</div>"
      ],
      "text/plain": [
       "          from          to confidence     support     lift\n",
       "48   PR0014096   PR0016409  0.0995844  0.00303015   7.3647\n",
       "63  ПЖП0100030  ПЖП0100647  0.0778888  0.00307568  5.09668\n",
       "67  ПЖП0100030  ПЖП1018601  0.0849347  0.00335391  4.35422\n",
       "42   PR0011871  ПЖП0100032  0.0847018  0.00347025  1.25629\n",
       "19   PR0006001  ПЖП1009932   0.150759  0.00366754  1.27077\n",
       "53   PR0015011  ПЖП1009932   0.145817  0.00377378  1.22911\n",
       "78  ПЖП1009917  ПЖП1009932   0.131413  0.00390024   1.1077\n",
       "23   PR0006575   PR0010747   0.172743  0.00393059   5.2342\n",
       "82  ПЖП1009932  ПЖП1010107  0.0356473  0.00422906  1.33892\n",
       "75  ПЖП1009879  ПЖП1009932   0.143415  0.00464387  1.20886"
      ]
     },
     "execution_count": 28,
     "metadata": {},
     "output_type": "execute_result"
    }
   ],
   "source": [
    "asr_df2.sort_values('support').tail(10)"
   ]
  },
  {
   "cell_type": "code",
   "execution_count": 30,
   "metadata": {},
   "outputs": [
    {
     "name": "stdout",
     "output_type": "stream",
     "text": [
      "['Фарш Свиной охл лоток 400гр ВСТ СМК']\n",
      "----------->\n",
      "['ФМ Фарш из говядины 400 гр']\n"
     ]
    }
   ],
   "source": [
    "get_rule_title(asr_df2.loc[48])"
   ]
  },
  {
   "cell_type": "markdown",
   "metadata": {},
   "source": [
    "11.выводы \n",
    "Потребитель предпочитает самостоятельно смешавать фарш: свинина + говядина. Необходимо смотреть за наличием данных товаров на полке\n"
   ]
  }
 ],
 "metadata": {
  "kernelspec": {
   "display_name": "Python 3",
   "language": "python",
   "name": "python3"
  },
  "language_info": {
   "codemirror_mode": {
    "name": "ipython",
    "version": 3
   },
   "file_extension": ".py",
   "mimetype": "text/x-python",
   "name": "python",
   "nbconvert_exporter": "python",
   "pygments_lexer": "ipython3",
   "version": "3.8.5"
  }
 },
 "nbformat": 4,
 "nbformat_minor": 2
}
